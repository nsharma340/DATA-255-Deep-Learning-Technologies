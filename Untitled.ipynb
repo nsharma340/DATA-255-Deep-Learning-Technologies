{
 "cells": [
  {
   "cell_type": "code",
   "execution_count": 2,
   "id": "79d40387-4c98-413b-8d28-7202d896148c",
   "metadata": {},
   "outputs": [
    {
     "name": "stdout",
     "output_type": "stream",
     "text": [
      "Dataset downloaded successfully!\n"
     ]
    }
   ],
   "source": [
    "import urllib.request\n",
    "\n",
    "# Define the download URL and target path\n",
    "dataset_url = \"https://www.cs.toronto.edu/~kriz/cifar-10-python.tar.gz\"\n",
    "target_path = \"/Users/nehasharma/Downloads/images.tar\"\n",
    "\n",
    "# Download the dataset\n",
    "urllib.request.urlretrieve(dataset_url, target_path)\n",
    "\n",
    "print(\"Dataset downloaded successfully!\")"
   ]
  },
  {
   "cell_type": "code",
   "execution_count": 3,
   "id": "2c02ab0e-fbb8-4282-8142-f99a4961b6b8",
   "metadata": {},
   "outputs": [
    {
     "name": "stderr",
     "output_type": "stream",
     "text": [
      "/var/folders/mz/l3lbw4h95l36t184_ybct9vr0000gn/T/ipykernel_17700/1425308041.py:5: DeprecationWarning: Python 3.14 will, by default, filter extracted tar archives and reject files or modify their metadata. Use the filter argument to control this behavior.\n",
      "  tar.extractall()\n"
     ]
    },
    {
     "name": "stdout",
     "output_type": "stream",
     "text": [
      "Dataset extracted successfully!\n"
     ]
    }
   ],
   "source": [
    "import tarfile\n",
    "\n",
    "# Extract the downloaded file\n",
    "with tarfile.open(target_path) as tar:\n",
    "    tar.extractall()\n",
    "\n",
    "print(\"Dataset extracted successfully!\")"
   ]
  },
  {
   "cell_type": "code",
   "execution_count": 4,
   "id": "621abb79-ba79-4267-873f-b18ed0244cbf",
   "metadata": {},
   "outputs": [
    {
     "name": "stdout",
     "output_type": "stream",
     "text": [
      "dog_photos\n"
     ]
    }
   ],
   "source": [
    "import os\n",
    "\n",
    "# Define the main data directory\n",
    "data_dir = \"dog_photos\"\n",
    "print(data_dir)"
   ]
  },
  {
   "cell_type": "code",
   "execution_count": 5,
   "id": "dfb1c494-bcc9-4041-8032-5e863e616c8f",
   "metadata": {},
   "outputs": [
    {
     "name": "stdout",
     "output_type": "stream",
     "text": [
      "Total images downloaded: 0\n"
     ]
    }
   ],
   "source": [
    "# Count images and print size\n",
    "total_images = 0\n",
    "for root, _, files in os.walk(data_dir):\n",
    "    for file in files:\n",
    "        if file.endswith(('.jpg', '.jpeg', '.png')):  # Adjust for your image formats\n",
    "            total_images += 1\n",
    "            image_path = os.path.join(root, file)\n",
    "\n",
    "print(\"Total images downloaded:\", total_images)"
   ]
  },
  {
   "cell_type": "code",
   "execution_count": null,
   "id": "3d33a745-9746-4ec9-b2a8-ac969baf2065",
   "metadata": {},
   "outputs": [],
   "source": []
  }
 ],
 "metadata": {
  "kernelspec": {
   "display_name": "Python 3 (ipykernel)",
   "language": "python",
   "name": "python3"
  },
  "language_info": {
   "codemirror_mode": {
    "name": "ipython",
    "version": 3
   },
   "file_extension": ".py",
   "mimetype": "text/x-python",
   "name": "python",
   "nbconvert_exporter": "python",
   "pygments_lexer": "ipython3",
   "version": "3.12.4"
  }
 },
 "nbformat": 4,
 "nbformat_minor": 5
}
